{
 "cells": [
  {
   "cell_type": "markdown",
   "metadata": {},
   "source": [
    "# <span style=\"color:teal;\">CIS 211 Project 4:  Orbits</span>"
   ]
  },
  {
   "cell_type": "markdown",
   "metadata": {},
   "source": [
    "##### Due 11:00 P.M. February 3, 2017"
   ]
  },
  {
   "cell_type": "markdown",
   "metadata": {},
   "source": [
    "##### Reading:  M&R 10.6.3"
   ]
  },
  {
   "cell_type": "markdown",
   "metadata": {},
   "source": [
    "###  <span style=\"color:teal\">Vector and Body Classes</span>"
   ]
  },
  {
   "cell_type": "markdown",
   "metadata": {},
   "source": [
    "This week's project will build on the Vector and Body classes from last week in order to create a complete simulation of the Solar System.  There are two ways to define these classes:  (1) copy your definitions from last week's project, or (2) download the instructor's solution from Canvas.\n",
    "\n",
    "Instructions for both methods are in the next two sections.  **Use either of these methods, but not both.**  \n",
    "\n",
    "Note: you will earn **extra credit points** if you use your own code."
   ]
  },
  {
   "cell_type": "markdown",
   "metadata": {},
   "source": [
    "####  <span style=\"color:teal\">Option 1: &nbsp; Use Your Own Classes</span>"
   ]
  },
  {
   "cell_type": "markdown",
   "metadata": {},
   "source": [
    "Choose this method only if your classes passed all the unit tests. Copy the complete Vector and Body class definitions from last week's notebook and paste them into the code cells below.  "
   ]
  },
  {
   "cell_type": "code",
   "execution_count": 3,
   "metadata": {
    "collapsed": true
   },
   "outputs": [],
   "source": [
    "from math import sqrt\n",
    "\n",
    "class Vector:\n",
    "    \"\"\"\n",
    "    A Vector is a 3-tuple of (x,y,z) coordinates.\n",
    "    \"\"\"\n",
    "\n",
    "    def __init__(self, x, y, z):\n",
    "        self.x = x\n",
    "        self.y = y\n",
    "        self.z = z\n",
    "    \n",
    "    def x(self):\n",
    "        return self.x\n",
    "    \n",
    "    def y(self):\n",
    "        return self.y\n",
    "    \n",
    "    def z(self):\n",
    "        return self.z\n",
    "    \n",
    "    def __repr__(self):\n",
    "        return '(%.3g,%.3g,%.3g)' % (self.x, self.y, self.z)  \n",
    "        \n",
    "    def __add__(self,other):\n",
    "        return Vector(self.x + other.x, self.y + other.y, self.z + other.z)\n",
    "    \n",
    "    def __sub__(self,other):\n",
    "        return Vector(self.x - other.x, self.y - other.y, self.z - other.z)\n",
    "    \n",
    "    def __mul__(self,other):\n",
    "        return Vector(self.x * other, self.y * other, self.z * other)\n",
    "    \n",
    "    def __eq__(self,other):\n",
    "        return (self.x == other.x) and (self.y == other.y) and (self.z == other.z)\n",
    "    \n",
    "    def norm(self):\n",
    "        return sqrt((self.x**2)+(self.y**2)+(self.z**2))\n",
    "    \n",
    "    def clear(self):\n",
    "        self.x = 0\n",
    "        self.y = 0\n",
    "        self.z = 0\n",
    "        return (self.x, self.y, self.z)"
   ]
  },
  {
   "cell_type": "code",
   "execution_count": 4,
   "metadata": {
    "collapsed": true
   },
   "outputs": [],
   "source": [
    "G = 6.67E-11\n",
    "\n",
    "class Body:\n",
    "    \"\"\"\n",
    "    A Body object represents the state of a celestial body.  A body has mass \n",
    "    (a scalar), position (a vector), and velocity (a vector).  A third vector, \n",
    "    named force, is used when calculating forces acting on a body.  An\n",
    "    optional name can be attached to use in debugging.\n",
    "    \"\"\"\n",
    "    \n",
    "    def __init__(self, mass = 0, position = Vector(0,0,0), velocity = Vector(0,0,0), name = None):\n",
    "        \"\"\"\n",
    "        Create a new Body object with the specified mass (a scalar), position (a vector), \n",
    "        and velocity (another vector).  A fourth argument is an optional name for the body.\n",
    "        \"\"\"\n",
    "        self._name = name\n",
    "        self._mass = mass\n",
    "        self._position = position\n",
    "        self._velocity = velocity\n",
    "        self._force = Vector(0,0,0)\n",
    "\n",
    "    def __repr__(self):\n",
    "        if self._name == None:\n",
    "            return \"{:.3g}kg {} {}\".format(self._mass, self._position, self._velocity)\n",
    "        return \"{}: {:.3g}kg {} {}\".format(self._name, self._mass, self._position, self._velocity)    \n",
    "    \n",
    "    def name(self):\n",
    "        return self._name\n",
    "    \n",
    "    def mass(self):\n",
    "        return self._mass\n",
    "\n",
    "    def position(self):\n",
    "        return self._position\n",
    "\n",
    "    def velocity(self):\n",
    "        return self._velocity\n",
    "\n",
    "    def force(self):\n",
    "        return self._force\n",
    "    \n",
    "    def direction(self, other):\n",
    "        return (other._position - self._position)\n",
    "    \n",
    "    def add_force(self, other):\n",
    "        f = self.direction(other).norm() ** 3\n",
    "        self._force = (self._force + (self.direction(other) * (other._mass/f)))\n",
    "        return self._force\n",
    "    \n",
    "    def clear_force(self):\n",
    "        self._force = Vector(0,0,0)\n",
    "        return self._force\n",
    "                \n",
    "    def move(self, dt):\n",
    "        m =self.force() * G\n",
    "        self._velovity = self._velocity + (m * dt)\n",
    "        self._position = self._position + (self._velocity * dt)"
   ]
  },
  {
   "cell_type": "markdown",
   "metadata": {},
   "source": [
    "####  <span style=\"color:teal\">Option 2: &nbsp; Download a (`.pyc`) File from Canvas </span>"
   ]
  },
  {
   "cell_type": "markdown",
   "metadata": {},
   "source": [
    "If your classes did not pass all the unit tests you need to download a  \"compiled Python\" (`.pyc`) file from the Files section on Canvas.\n",
    "\n",
    "The file you need has a name that ends with `cpython-3x.pyc` where `x` is either 4 (for Python 3.4) or 5 (for Python 3.5). To see which version of Python you have, select About from Jupyter's Help menu.\n",
    "* it does not matter which OS you have, the `.pyc` files work for Mac, Windows, or Linux\n",
    "* if you need the `.pyc` file for Python 3.6 send e-mail to `cis211-help`\n",
    "\n",
    "Download one of the `Body.cpython-3x.pyc` files, rename it `Body.pyc`, and move it to the same folder as this notebook.  Then uncomment and execute the `import` command in the code cell below."
   ]
  },
  {
   "cell_type": "code",
   "execution_count": 5,
   "metadata": {
    "collapsed": true
   },
   "outputs": [],
   "source": [
    "from Body import *"
   ]
  },
  {
   "cell_type": "markdown",
   "metadata": {},
   "source": [
    "###  <span style=\"color:teal\">Libraries</span>"
   ]
  },
  {
   "cell_type": "markdown",
   "metadata": {},
   "source": [
    "Execute the following code cell each time you open this notebook."
   ]
  },
  {
   "cell_type": "code",
   "execution_count": 6,
   "metadata": {
    "collapsed": true
   },
   "outputs": [],
   "source": [
    "from copy import deepcopy\n",
    "\n",
    "import numpy as np\n",
    "import matplotlib.pyplot as plt\n",
    "\n",
    "%matplotlib inline"
   ]
  },
  {
   "cell_type": "markdown",
   "metadata": {},
   "source": [
    "###  <span style=\"color:teal\">Solar System</span>"
   ]
  },
  {
   "cell_type": "markdown",
   "metadata": {},
   "source": [
    "Execute this code cell to create a list of Body objects for the sun and the 9 planets.  The positions and initial velocities are from a \"snapshot\" of the solar system from January 1, 1970.\n",
    "\n",
    "**Do not change this cell.** &nbsp; The autograder will use these Body objects to test your simulation."
   ]
  },
  {
   "cell_type": "code",
   "execution_count": 7,
   "metadata": {
    "collapsed": false
   },
   "outputs": [],
   "source": [
    "solar_system = [\n",
    "    Body(1.9891E+30,  Vector(0,0,0), Vector(0,0,0)),\n",
    "    Body(3.302E+23,   Vector(3.83713E+10,2.877025E+10,-1.175808E+09),    Vector(-38787.67,41093.05,6918.461)),\n",
    "    Body(4.8685E+24,  Vector(-5.377313E+09,-1.085956E+11,-1.164748E+09), Vector(34741.48,-1865.747,-2031.506)),\n",
    "    Body(5.9736E+24,  Vector(-2.700743E+10,1.446007E+11,9686451),        Vector(-29770.44,-5568.042,0.3961261)),\n",
    "    Body(6.4185E+23,  Vector(1.983825E+11,7.422924E+10,-3.334841E+09),   Vector(-7557.626,24761.27,704.7457)),\n",
    "    Body(1.89813E+27, Vector(-7.496502E+11,-3.201711E+11,1.811155E+10),  Vector(4982.522,-11417.83,-64.66531)),\n",
    "    Body(5.68319E+26, Vector(1.082806E+12,8.510841E+11,-5.793461E+10),   Vector(-6487.118,7565.952,125.4422)),\n",
    "    Body(8.68103E+25, Vector(-2.724616E+12,-2.894003E+11,3.428801E+10),  Vector(671.3469,-7099.093,-35.04028)),\n",
    "    Body(1.0241E+26,  Vector(-2.328072E+12,-3.891086E+12,1.337436E+11),  Vector(4633.961,-2767.423,-49.57268)),\n",
    "    Body(1.314E+22,   Vector(-4.551135E+12,3.175277E+11,1.282177E+12),   Vector(635.998,-5762.115,440.8821))\n",
    "]"
   ]
  },
  {
   "cell_type": "code",
   "execution_count": 8,
   "metadata": {
    "collapsed": false
   },
   "outputs": [
    {
     "data": {
      "text/plain": [
       "[1.99e+30kg (0,0,0) (0,0,0),\n",
       " 3.3e+23kg (3.84e+10,2.88e+10,-1.18e+09) (-3.88e+04,4.11e+04,6.92e+03),\n",
       " 4.87e+24kg (-5.38e+09,-1.09e+11,-1.16e+09) (3.47e+04,-1.87e+03,-2.03e+03),\n",
       " 5.97e+24kg (-2.7e+10,1.45e+11,9.69e+06) (-2.98e+04,-5.57e+03,0.396),\n",
       " 6.42e+23kg (1.98e+11,7.42e+10,-3.33e+09) (-7.56e+03,2.48e+04,705),\n",
       " 1.9e+27kg (-7.5e+11,-3.2e+11,1.81e+10) (4.98e+03,-1.14e+04,-64.7),\n",
       " 5.68e+26kg (1.08e+12,8.51e+11,-5.79e+10) (-6.49e+03,7.57e+03,125),\n",
       " 8.68e+25kg (-2.72e+12,-2.89e+11,3.43e+10) (671,-7.1e+03,-35),\n",
       " 1.02e+26kg (-2.33e+12,-3.89e+12,1.34e+11) (4.63e+03,-2.77e+03,-49.6),\n",
       " 1.31e+22kg (-4.55e+12,3.18e+11,1.28e+12) (636,-5.76e+03,441)]"
      ]
     },
     "execution_count": 8,
     "metadata": {},
     "output_type": "execute_result"
    }
   ],
   "source": [
    "solar_system"
   ]
  },
  {
   "cell_type": "markdown",
   "metadata": {},
   "source": [
    "###  <span style=\"color:teal\">Part 1: &nbsp; Draw Concentric Circles (25 points)</span>"
   ]
  },
  {
   "cell_type": "code",
   "execution_count": null,
   "metadata": {
    "collapsed": false
   },
   "outputs": [],
   "source": []
  },
  {
   "cell_type": "markdown",
   "metadata": {
    "collapsed": true
   },
   "source": [
    "Fill in the body of the function definition below so it draws a set of concentric circles.  Each circle will actually be a sequence of connected line segments drawn by a call to the `plot` function.  The parameters are:\n",
    "* the number of circles to draw\n",
    "* the diameter of the innermost circle\n",
    "* the diameter of the outermost circle\n",
    "* the number of line segments in each circle\n",
    "\n",
    "Use the inner and outer diameters to compute euqally spaced diameters for the other circles.  For example, if the call is\n",
    "```\n",
    ">>> concentric(ncircles=5, inner=5, outer=9)\n",
    "```\n",
    "the function should draw circles with diameters 5, 6, 7, 8, and 9."
   ]
  },
  {
   "cell_type": "markdown",
   "metadata": {},
   "source": [
    "####  <span style=\"color:teal\">Hint </span>"
   ]
  },
  {
   "cell_type": "markdown",
   "metadata": {},
   "source": [
    "For a circle with radius $r$ the $(x,y)$ coordinates of the point at  angle $\\alpha$ are $x = r \\cos \\alpha$ and $y = r \\sin \\alpha$.\n",
    "\n",
    "![circle](http://pages.uoregon.edu/conery/CIS211/Orbits/circle.png)"
   ]
  },
  {
   "cell_type": "markdown",
   "metadata": {},
   "source": [
    "The following expressions will create lists of $x$ and $y$ coordinates for $n$ equally spaced points around the perimeter of a circle with radius 1."
   ]
  },
  {
   "cell_type": "code",
   "execution_count": 9,
   "metadata": {
    "collapsed": true
   },
   "outputs": [],
   "source": [
    "from math import pi as π, sin, cos"
   ]
  },
  {
   "cell_type": "code",
   "execution_count": 10,
   "metadata": {
    "collapsed": false
   },
   "outputs": [],
   "source": [
    "n = 6\n",
    "x = [ cos(2*π*i/n) for i in range(n+1) ]\n",
    "y = [ sin(2*π*i/n) for i in range(n+1) ]"
   ]
  },
  {
   "cell_type": "code",
   "execution_count": 11,
   "metadata": {
    "collapsed": true,
    "deletable": false,
    "nbgrader": {
     "checksum": "129bab7a6b783e20af3c6229376c69f3",
     "grade": true,
     "grade_id": "concentric",
     "locked": false,
     "points": 10,
     "solution": true
    }
   },
   "outputs": [],
   "source": [
    "def concentric(ncircles=3, inner=1, outer=2, nsegs=30):\n",
    "    start = inner/2\n",
    "    mid = ((outer/2)-(inner/2))/2\n",
    "    for j in range(ncircles):\n",
    "        y = [start * sin(2*π*i/nsegs) for i in range(nsegs+1) ]\n",
    "        x = [start * cos(2*π*i/nsegs) for i in range(nsegs+1) ]\n",
    "        plt.plot(x,y)\n",
    "        start += mid"
   ]
  },
  {
   "cell_type": "markdown",
   "metadata": {
    "collapsed": false
   },
   "source": [
    "**Note:** &nbsp; These lists have $n+1$ values so the last line segment \"completes the circle\" and connects back to the starting point."
   ]
  },
  {
   "cell_type": "markdown",
   "metadata": {},
   "source": [
    "##### <span style=\"color:red\">Code:</span>"
   ]
  },
  {
   "cell_type": "markdown",
   "metadata": {},
   "source": [
    "##### <span style=\"color:red\">Tests:</span>"
   ]
  },
  {
   "cell_type": "markdown",
   "metadata": {
    "nbgrader": {
     "grade": false,
     "locked": false,
     "points": 30,
     "solution": false
    }
   },
   "source": [
    "Use the following code cell as a \"sandbox\" if you want to do your own tests.  You can add additional cells here if you want."
   ]
  },
  {
   "cell_type": "code",
   "execution_count": 12,
   "metadata": {
    "collapsed": false,
    "scrolled": true
   },
   "outputs": [
    {
     "data": {
      "image/png": "[encoded data removed]",
      "text/plain": [
       "<matplotlib.figure.Figure at 0x16ce3e816a0>"
      ]
     },
     "metadata": {},
     "output_type": "display_data"
    }
   ],
   "source": [
    "concentric(ncircles=2, inner=2, outer=10, nsegs=12)"
   ]
  },
  {
   "cell_type": "code",
   "execution_count": 13,
   "metadata": {
    "collapsed": false
   },
   "outputs": [
    {
     "data": {
      "text/plain": [
       "[1.0,\n",
       " 0.5000000000000001,\n",
       " -0.4999999999999998,\n",
       " -1.0,\n",
       " -0.5000000000000004,\n",
       " 0.5000000000000001,\n",
       " 1.0]"
      ]
     },
     "execution_count": 13,
     "metadata": {},
     "output_type": "execute_result"
    }
   ],
   "source": [
    "x"
   ]
  },
  {
   "cell_type": "markdown",
   "metadata": {},
   "source": [
    "##### <span style=\"color:red\">Autograder Tests:</span>"
   ]
  },
  {
   "cell_type": "markdown",
   "metadata": {},
   "source": [
    "The autograder cells use a different strategy for this part of the project.  The autograder will just make sure your function does not crash.  The human grader will look at the drawing to assign points for correctness."
   ]
  },
  {
   "cell_type": "code",
   "execution_count": 14,
   "metadata": {
    "collapsed": false,
    "deletable": false,
    "nbgrader": {
     "checksum": "943c5e283e2b95713a55eb44cef86c0c",
     "grade": true,
     "grade_id": "hexagons",
     "locked": true,
     "points": 5,
     "solution": false
    }
   },
   "outputs": [
    {
     "data": {
      "image/png": "[encoded data removed]",
      "text/plain": [
       "<matplotlib.figure.Figure at 0x16ce45da7b8>"
      ]
     },
     "metadata": {},
     "output_type": "display_data"
    }
   ],
   "source": [
    "concentric(ncircles=3, inner=2, outer=10, nsegs=6)"
   ]
  },
  {
   "cell_type": "code",
   "execution_count": 15,
   "metadata": {
    "collapsed": false,
    "deletable": false,
    "nbgrader": {
     "checksum": "dee3b49a209cb4572dd76ab134be94b5",
     "grade": true,
     "grade_id": "circles",
     "locked": true,
     "points": 5,
     "solution": false
    },
    "scrolled": true
   },
   "outputs": [
    {
     "data": {
      "image/png": "[encoded data removed]",
      "text/plain": [
       "<matplotlib.figure.Figure at 0x16ce4ebd6a0>"
      ]
     },
     "metadata": {},
     "output_type": "display_data"
    }
   ],
   "source": [
    "concentric(ncircles=5)"
   ]
  },
  {
   "cell_type": "markdown",
   "metadata": {},
   "source": [
    "##### <span style=\"color:red\">Documentation:</span>"
   ]
  },
  {
   "cell_type": "markdown",
   "metadata": {
    "deletable": false,
    "nbgrader": {
     "checksum": "c5d0c1418313933d3f8e2c02f7ae183f",
     "grade": true,
     "grade_id": "doc_1",
     "locked": false,
     "points": 5,
     "solution": true
    }
   },
   "source": [
    "This funciton will take in a number of circle. It will then deccide how to space them evenly between the inner and outter radius. Then it will draw a circle using n segments based off of input. "
   ]
  },
  {
   "cell_type": "markdown",
   "metadata": {
    "collapsed": true
   },
   "source": [
    "###  <span style=\"color:teal\">Part 2: &nbsp; Solar System (40 points)</span>"
   ]
  },
  {
   "cell_type": "markdown",
   "metadata": {},
   "source": [
    "To run the full N-body simulation we need to calculate all pairwise interactions between the bodies.  On each time step, first update each body's force vector:\n",
    "```\n",
    "for i = 0 to n-1:\n",
    "  for j = 0 to n-1:\n",
    "    if i != j:\n",
    "      add the force of body j to body i's force vector\n",
    "```\n",
    "Now uses the accumulated forces to move each body and clear the force vector so it's ready for the next time step:\n",
    "```\n",
    "for i = 0 to n-1:\n",
    "   move body i\n",
    "   clear forces on body i\n",
    "```\n",
    "\n",
    "Fill in the body of the function named `step_system`.  The arguments to this function are\n",
    "* a list of Body objects\n",
    "* a time step size (default 86459, the number of seconds in 1/365 of a year)\n",
    "* the number of time steps to simulate (default 1)\n",
    "\n",
    "The return value should be a list of orbits.  If there are $n$ bodies passed to the function, the output will be a list of $n$ sequences containing the $(x,y)$ coordinates of each body at each time step.\n",
    "\n",
    "For example, to simulate one year of the solar system, using the list of Body object defined above:\n",
    "```\n",
    "orbits = step_system(solar_system, nsteps=365)\n",
    "```\n",
    "The output will be a list of 10 lists:\n",
    "```\n",
    "[ \n",
    "  [(sx0,sy0), (sx1,sy1), (sx2,sy2), ...],\n",
    "  [(mx0,my0), (mx1,my1), (mx2,my2), ...],\n",
    "  ...\n",
    "  [(px0,py0), (px1,py1), (px2,py2), ...]\n",
    "]\n",
    "```\n",
    "where `sx` and `sy` are the $x$ and $y$ coordinates of the first body (the Sun), `mx` and `my` are the coordinates of the second body (Mercury), _etc_."
   ]
  },
  {
   "cell_type": "markdown",
   "metadata": {},
   "source": [
    "**Note** &nbsp; Each time you call your `step_system` function it's going to change the position vectors in the Body objects.  To make sure you have a \"clean copy\" each time you test your code either go back and re-execute the cell that defines the solar system or make a copy of the solar system to use in your test:\n",
    "```\n",
    "ss = deepcopy(solar_system)\n",
    "```"
   ]
  },
  {
   "cell_type": "markdown",
   "metadata": {},
   "source": [
    "##### <span style=\"color:red\">Code:</span>"
   ]
  },
  {
   "cell_type": "code",
   "execution_count": 78,
   "metadata": {
    "collapsed": false,
    "deletable": false,
    "nbgrader": {
     "checksum": "3bce985d7b7d8373e4cf0cc023dd97f3",
     "grade": true,
     "grade_id": "step_system",
     "locked": false,
     "points": 20,
     "solution": true
    }
   },
   "outputs": [],
   "source": [
    "def step_system(bodies, dt=86459, nsteps=1):\n",
    "    coor = [[] for i in bodies]\n",
    "    for n in range(nsteps): \n",
    "        c=0\n",
    "        for i in bodies:\n",
    "            for j in bodies:\n",
    "                if i != j:\n",
    "                    i.add_force(j)\n",
    "            i.move(dt)\n",
    "            i.clear_force()\n",
    "            coor[c].append((i.position().x(),i.position().y()))\n",
    "            c+=1\n",
    "    return coor"
   ]
  },
  {
   "cell_type": "markdown",
   "metadata": {},
   "source": [
    "##### <span style=\"color:red\">Tests:</span>"
   ]
  },
  {
   "cell_type": "markdown",
   "metadata": {},
   "source": [
    "Use the following code cell as a \"sandbox\" if you want to do your own tests.  You can add additional cells here if you want."
   ]
  },
  {
   "cell_type": "code",
   "execution_count": null,
   "metadata": {
    "collapsed": true
   },
   "outputs": [],
   "source": []
  },
  {
   "cell_type": "markdown",
   "metadata": {},
   "source": [
    "##### <span style=\"color:red\">Autograder Tests:</span>"
   ]
  },
  {
   "cell_type": "markdown",
   "metadata": {
    "collapsed": false
   },
   "source": [
    "Test 1:  Run the simulation for 5 time steps.  The return value should be a list of 10 orbits, and each orbit should have 5 pairs."
   ]
  },
  {
   "cell_type": "code",
   "execution_count": 79,
   "metadata": {
    "collapsed": false
   },
   "outputs": [
    {
     "data": {
      "text/plain": [
       "[[(-1168.6243872524028, -493.3265464518315),\n",
       "  (-3505.0228535445185, -1475.1136565435122),\n",
       "  (-7009.4958824997575, -2940.5334098981143),\n",
       "  (-11683.535018014327, -4885.043266397335),\n",
       "  (-17529.799334806114, -7304.656826946831)],\n",
       " [(34675845283.22231, 32062613764.70693),\n",
       "  (30654431662.379284, 35053584151.10971),\n",
       "  (26332354586.579906, 37700744496.32131),\n",
       "  (21742186448.371727, 39964073013.03843),\n",
       "  (16923614691.61692, 41807577381.21122)],\n",
       " [(-2371507994.1306596, -108673141303.26259),\n",
       "  (636123944.136766, -108666899786.93517),\n",
       "  (3643263666.08208, -108576815552.09137),\n",
       "  (6647588792.625954, -108402892625.75504),\n",
       "  (9646775444.525549, -108145199159.01817)],\n",
       " [(-29571193751.3048, 144074628892.8884),\n",
       "  (-32125753197.8988, 143503708015.79697),\n",
       "  (-34670308571.83347, 142888094706.91675),\n",
       "  (-37204062670.05813, 142227961103.87543),\n",
       "  (-39726221147.09946, 141523494106.8899)],\n",
       " [(197708853152.29208, 76360880412.88753),\n",
       "  (197014645490.87018, 78484579712.94757),\n",
       "  (196299986380.64407, 80600131857.30118),\n",
       "  (195564987369.93716, 82707332582.55951),\n",
       "  (194809762156.33594, 84805979428.73491)],\n",
       " [(-749218340372.7859, -321157015496.7892),\n",
       "  (-748785111761.2623, -322142344156.8081),\n",
       "  (-748350514909.7356, -323127084159.29315),\n",
       "  (-747914550564.713, -324111233684.2787),\n",
       "  (-747477219474.9025, -325094790912.59906)],\n",
       " [(1082245103407.8978, 851737476335.5833),\n",
       "  (1081683797397.7936, 852390530480.5574),\n",
       "  (1081122082148.7875, 853043262161.6201),\n",
       "  (1080559957840.1803, 853695671105.56),\n",
       "  (1079997424651.4729, 854347757039.2563)],\n",
       " [(-2724557864211.195, -290013647706.7067),\n",
       "  (-2724499597009.641, -290626981455.5393),\n",
       "  (-2724441198399.244, -291240301217.11804),\n",
       "  (-2724382668383.9155, -291853606962.0642),\n",
       "  (-2724324006967.5747, -292466898661.00024)],\n",
       " [(-2327671601040.306, -3891325063997.934),\n",
       "  (-2327271177355.5464, -3891564086644.032),\n",
       "  (-2326870728949.9487, -3891803067935.726),\n",
       "  (-2326470255827.7427, -3892042007870.447),\n",
       "  (-2326069757993.1562, -3892280906445.6265)],\n",
       " [(-4551080007350.175, 317029850296.79193),\n",
       "  (-4551024972276.215, 316531997630.8648),\n",
       "  (-4550969894776.61, 316034142006.70825),\n",
       "  (-4550914774849.852, 315536283428.8124),\n",
       "  (-4550859612494.43, 315038421901.66766)]]"
      ]
     },
     "execution_count": 79,
     "metadata": {},
     "output_type": "execute_result"
    }
   ],
   "source": [
    "ss = deepcopy(solar_system)\n",
    "orbits = step_system(ss, nsteps=5, dt=86400)\n",
    "orbits\n"
   ]
  },
  {
   "cell_type": "code",
   "execution_count": 80,
   "metadata": {
    "collapsed": false,
    "deletable": false,
    "nbgrader": {
     "checksum": "fde66098436741a815e597eaa4d13053",
     "grade": true,
     "grade_id": "orbits",
     "locked": true,
     "points": 5,
     "solution": false
    }
   },
   "outputs": [],
   "source": [
    "ss = deepcopy(solar_system)\n",
    "orbits = step_system(ss, nsteps=5, dt=86400)\n",
    "\n",
    "assert isinstance(orbits,list)\n",
    "assert len(orbits) == 10\n",
    "assert sum([len(x) for x in orbits]) == 50"
   ]
  },
  {
   "cell_type": "markdown",
   "metadata": {
    "collapsed": false
   },
   "source": [
    "Test 2:  Run the simulation long enough for Mercury to make one full orbit (about 88 Earth days), see if it's close to where it started."
   ]
  },
  {
   "cell_type": "code",
   "execution_count": 81,
   "metadata": {
    "collapsed": false,
    "deletable": false,
    "nbgrader": {
     "checksum": "128bedf9798dbeac328b97aedd60307a",
     "grade": true,
     "grade_id": "mercury",
     "locked": true,
     "points": 5,
     "solution": false
    }
   },
   "outputs": [],
   "source": [
    "ss = deepcopy(solar_system)\n",
    "start = deepcopy(ss[1].position())            # Mercury's starting position\n",
    "step_system(ss, nsteps=1000, dt=7600.5216)\n",
    "stop = ss[1].position()                       # Mercury's final position\n",
    "\n",
    "assert (stop-start).norm() < 1e10"
   ]
  },
  {
   "cell_type": "markdown",
   "metadata": {},
   "source": [
    "##### <span style=\"color:red\">Documentation:</span>"
   ]
  },
  {
   "cell_type": "markdown",
   "metadata": {
    "deletable": false,
    "nbgrader": {
     "checksum": "60009593bb2ea1b8f502e4c248cfff4e",
     "grade": true,
     "grade_id": "doc_2",
     "locked": false,
     "points": 10,
     "solution": true
    }
   },
   "source": [
    "After deciding how many planets, the funtion will add the force of all the planets to eachother. Then it will move them, record the distance, and clear the force to be done again. The result returns a list of x,y for n planets each list containning m steps."
   ]
  },
  {
   "cell_type": "markdown",
   "metadata": {
    "collapsed": true
   },
   "source": [
    "###  <span style=\"color:teal\">Part 3: &nbsp; Plotting Orbits (35 points)</span>"
   ]
  },
  {
   "cell_type": "markdown",
   "metadata": {},
   "source": [
    "Complete the definition of the `plot_orbits` function below.  The first four lines will run the simulation, using your `step_system` function, and figure out how many orbits to plot.  You need to fill in the rest:  extract the $x$ and $y$ coordinates from the list returned by `step_system` and plot the orbits."
   ]
  },
  {
   "cell_type": "markdown",
   "metadata": {},
   "source": [
    "##### <span style=\"color:red\">Code:</span>"
   ]
  },
  {
   "cell_type": "code",
   "execution_count": 82,
   "metadata": {
    "collapsed": false,
    "deletable": false,
    "nbgrader": {
     "checksum": "0ce7c4e068117775cd3f523aed0734d6",
     "grade": true,
     "grade_id": "plot_orbits",
     "locked": false,
     "points": 20,
     "solution": true
    }
   },
   "outputs": [],
   "source": [
    "def plot_orbits(bodies, ndays = 365, nplanets=None):\n",
    "    bodies = deepcopy(bodies)\n",
    "    orbits = step_system(bodies, nsteps=ndays)\n",
    "    if nplanets is None:\n",
    "        nplanets = len(bodies)     \n",
    "    for i in range(nplanets):\n",
    "        x,y = [],[]\n",
    "        for j in orbits[i]:\n",
    "            y.append(j[1])\n",
    "            x.append(j[0])\n",
    "        plt.plot(x,y)"
   ]
  },
  {
   "cell_type": "markdown",
   "metadata": {},
   "source": [
    "##### <span style=\"color:red\">Tests:</span>"
   ]
  },
  {
   "cell_type": "markdown",
   "metadata": {
    "nbgrader": {
     "grade": false,
     "locked": false,
     "points": 30,
     "solution": false
    }
   },
   "source": [
    "Use the following code cell as a \"sandbox\" if you want to do your own tests.  You can add additional cells here if you want."
   ]
  },
  {
   "cell_type": "code",
   "execution_count": null,
   "metadata": {
    "collapsed": false
   },
   "outputs": [],
   "source": []
  },
  {
   "cell_type": "markdown",
   "metadata": {},
   "source": [
    "##### <span style=\"color:red\">Autograder Tests:</span>"
   ]
  },
  {
   "cell_type": "markdown",
   "metadata": {},
   "source": [
    "The autograder will call your `plot_orbits` function, the human grader will assign points based on the plot."
   ]
  },
  {
   "cell_type": "code",
   "execution_count": 83,
   "metadata": {
    "collapsed": false,
    "deletable": false,
    "nbgrader": {
     "checksum": "c7bc334d6e396047adc22f11d139451a",
     "grade": true,
     "grade_id": "orbit_test",
     "locked": true,
     "points": 5,
     "solution": false
    }
   },
   "outputs": [
    {
     "data": {
      "image/png": "[encoded data removed]",
      "text/plain": [
       "<matplotlib.figure.Figure at 0x16ce75ca588>"
      ]
     },
     "metadata": {},
     "output_type": "display_data"
    }
   ],
   "source": [
    "plot_orbits(solar_system, nplanets=5)"
   ]
  },
  {
   "cell_type": "markdown",
   "metadata": {},
   "source": [
    "##### <span style=\"color:red\">Documentation:</span>"
   ]
  },
  {
   "cell_type": "markdown",
   "metadata": {
    "deletable": false,
    "nbgrader": {
     "checksum": "3e0fe3aaa4b312a8077ba3a64115bf13",
     "grade": true,
     "grade_id": "doc_3",
     "locked": false,
     "points": 10,
     "solution": true
    }
   },
   "source": [
    "YOUR DOCUMENTATION HERE"
   ]
  },
  {
   "cell_type": "code",
   "execution_count": null,
   "metadata": {
    "collapsed": true
   },
   "outputs": [],
   "source": [
    "This program creats a group of planets then passes it to the orbit class. Here it will create the lists of x,y coordinates which will be plotted on the graph."
   ]
  }
 ],
 "metadata": {
  "anaconda-cloud": {},
  "kernelspec": {
   "display_name": "Python [default]",
   "language": "python",
   "name": "python3"
  },
  "language_info": {
   "codemirror_mode": {
    "name": "ipython",
    "version": 3
   },
   "file_extension": ".py",
   "mimetype": "text/x-python",
   "name": "python",
   "nbconvert_exporter": "python",
   "pygments_lexer": "ipython3",
   "version": "3.5.2"
  }
 },
 "nbformat": 4,
 "nbformat_minor": 0
}
